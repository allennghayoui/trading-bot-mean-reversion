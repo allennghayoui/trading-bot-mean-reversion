{
 "cells": [
  {
   "cell_type": "code",
   "execution_count": 1,
   "id": "bb2265f8",
   "metadata": {},
   "outputs": [],
   "source": [
    "import numpy as np\n",
    "import yfinance as yf\n",
    "import talib as ta\n",
    "\n",
    "from decimal import Decimal\n",
    "from ibapi.client import *\n",
    "from ibapi.wrapper import *"
   ]
  },
  {
   "cell_type": "code",
   "execution_count": null,
   "id": "63782272",
   "metadata": {},
   "outputs": [],
   "source": [
    "# orderId = 1\n",
    "symbol = \"VTI\"\n",
    "df = yf.download(symbol, start=\"2022-01-01\")\n",
    "\n",
    "# Create 200-period moving average\n",
    "df['MA_10'] = ta.SMA(df['Close'], 10)\n",
    "\n",
    "# Create 10-period moving average\n",
    "df['MA_200'] = ta.SMA(df['Close'], 200)\n",
    "\n",
    "# Create RSI_2 Column\n",
    "df['RSI_2'] = ta.RSI(df['Close'], 2)\n",
    "\n",
    "# Set long threshold\n",
    "long_threshold = 10\n",
    "\n",
    "# Enter long position\n",
    "df['Long_Positions'] = np.where((df.RSI_2 < long_threshold) & (df.Close > df.MA_200), 1, np.nan)\n",
    "\n",
    "# Close long position\n",
    "df['Long_Positions'] = np.where(df.Close > df.MA_10, -1, df['Long_Positions'])\n",
    "\n",
    "# Fill missing values\n",
    "df = df.fillna(method=\"ffill\")"
   ]
  },
  {
   "cell_type": "code",
   "execution_count": null,
   "id": "72d4f73b",
   "metadata": {
    "scrolled": false
   },
   "outputs": [],
   "source": [
    "class TestApp(EClient, EWrapper):\n",
    "    global df\n",
    "    global symbol\n",
    "    positions = {}\n",
    "    \n",
    "    def __init__(self):\n",
    "        EClient.__init__(self, self)\n",
    "        \n",
    " \n",
    "    def nextValidId(self, orderId: OrderId):\n",
    "        mycontract = Contract()\n",
    "        mycontract.symbol = symbol\n",
    "        mycontract.secType = \"STK\"   \n",
    "        mycontract.exchange = \"SMART\"\n",
    "        mycontract.currency = \"USD\"\n",
    "        \n",
    "        self.reqContractDetails(orderId, mycontract)\n",
    "        self.start()\n",
    " \n",
    "    def position(self, account: str, contract: Contract, position: Decimal,\n",
    "                      avgCost: float):\n",
    "        super().position(account, contract, position, avgCost)\n",
    "        self.positions[contract.symbol] = position\n",
    "        \n",
    "    def positionEnd(self):\n",
    "        super().positionEnd()\n",
    "        print(\"PositionEnd\")\n",
    "    \n",
    "        \n",
    "    def start(self):\n",
    "        self.reqPositions()\n",
    "        \n",
    "    def stop(self):\n",
    "        self.cancelPositions()\n",
    "        self.done = True\n",
    "        self.disconnect()\n",
    "\n",
    "\n",
    "    def contractDetails(self, reqId: int, contractDetails: ContractDetails):\n",
    "        global df\n",
    "        global symbol\n",
    "        \n",
    "        print(contractDetails.contract)\n",
    "        \n",
    "        myorder = Order()\n",
    "        myorder.orderId = reqId\n",
    "        myorder.tif = \"OPG\"\n",
    "        myorder.orderType = \"MKT\"\n",
    "        myorder.totalQuantity = 10\n",
    "        myorder.eTradeOnly = ''\n",
    "        myorder.firmQuoteOnly = ''\n",
    "        \n",
    "         \n",
    "        if df.tail(1)['Long_Positions'].values[0] == 1:\n",
    "            myorder.action = \"BUY\"\n",
    "            \n",
    "        elif df.tail(1)['Long_Positions'].values[0] == -1 and self.positions[symbol] > 0:\n",
    "            myorder.action = \"SELL\"\n",
    "        else:\n",
    "            pass\n",
    "        \n",
    "        \n",
    "        self.placeOrder(myorder.orderId, contractDetails.contract, myorder)\n",
    "        self.stop()\n",
    " \n",
    " \n",
    "app = TestApp()\n",
    "app.connect(\"127.0.0.1\", 7497, 100)\n",
    "app.run()"
   ]
  }
 ],
 "metadata": {
  "kernelspec": {
   "display_name": "Python 3 (ipykernel)",
   "language": "python",
   "name": "python3"
  },
  "language_info": {
   "codemirror_mode": {
    "name": "ipython",
    "version": 3
   },
   "file_extension": ".py",
   "mimetype": "text/x-python",
   "name": "python",
   "nbconvert_exporter": "python",
   "pygments_lexer": "ipython3",
   "version": "3.9.13 (main, Aug 25 2022, 23:51:50) [MSC v.1916 64 bit (AMD64)]"
  },
  "vscode": {
   "interpreter": {
    "hash": "f08154012ddadd8e950e6e9e035c7a7b32c136e7647e9b7c77e02eb723a8bedb"
   }
  }
 },
 "nbformat": 4,
 "nbformat_minor": 5
}
